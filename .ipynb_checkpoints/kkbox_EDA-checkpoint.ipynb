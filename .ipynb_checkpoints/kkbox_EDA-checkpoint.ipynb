{
 "cells": [
  {
   "cell_type": "markdown",
   "metadata": {},
   "source": [
    "# Kkbox Exploratory Data Analysis"
   ]
  },
  {
   "cell_type": "markdown",
   "metadata": {},
   "source": [
    "I will first summarize each data file and then merge them in features.ipynb"
   ]
  },
  {
   "cell_type": "code",
   "execution_count": 1,
   "metadata": {
    "collapsed": true
   },
   "outputs": [],
   "source": [
    "import numpy as np\n",
    "import pandas as pd\n",
    "import matplotlib\n",
    "import matplotlib.pyplot as plt\n",
    "import seaborn as sns\n",
    "%matplotlib inline\n",
    "import time\n",
    "\n",
    "import os\n",
    "import os.path as path\n",
    "import csv\n",
    "from multiprocessing import Pool, cpu_count"
   ]
  },
  {
   "cell_type": "code",
   "execution_count": 4,
   "metadata": {
    "collapsed": true
   },
   "outputs": [],
   "source": [
    "transactions = pd.read_csv('data/transactions.csv')\n",
    "train = pd.read_csv('data/train.csv')"
   ]
  },
  {
   "cell_type": "code",
   "execution_count": 12,
   "metadata": {},
   "outputs": [
    {
     "name": "stdout",
     "output_type": "stream",
     "text": [
      "Number of ppl who churn:     0.063923\n"
     ]
    }
   ],
   "source": [
    "print('Number of ppl who churn:     %f' % np.mean(train.is_churn))"
   ]
  },
  {
   "cell_type": "code",
   "execution_count": 6,
   "metadata": {},
   "outputs": [
    {
     "name": "stdout",
     "output_type": "stream",
     "text": [
      "Transaction Shape:      (21547746, 11)\n",
      "# Unique Users:         2363626\n"
     ]
    }
   ],
   "source": [
    "index = set(transaction['msno'])\n",
    "print('Transaction Shape:      %s' % str(transaction.shape))\n",
    "print('# Unique Users:         %d' % len(index))"
   ]
  },
  {
   "cell_type": "code",
   "execution_count": 3,
   "metadata": {},
   "outputs": [
    {
     "data": {
      "text/html": [
       "<div>\n",
       "<table border=\"1\" class=\"dataframe\">\n",
       "  <thead>\n",
       "    <tr style=\"text-align: right;\">\n",
       "      <th></th>\n",
       "      <th>msno</th>\n",
       "      <th>payment_method_id</th>\n",
       "      <th>payment_plan_days</th>\n",
       "      <th>plan_list_price</th>\n",
       "      <th>actual_amount_paid</th>\n",
       "      <th>is_auto_renew</th>\n",
       "      <th>transaction_date</th>\n",
       "      <th>membership_expire_date</th>\n",
       "      <th>is_cancel</th>\n",
       "    </tr>\n",
       "  </thead>\n",
       "  <tbody>\n",
       "    <tr>\n",
       "      <th>0</th>\n",
       "      <td>YyO+tlZtAXYXoZhNr3Vg3+dfVQvrBVGO8j1mfqe4ZHc=</td>\n",
       "      <td>41</td>\n",
       "      <td>30</td>\n",
       "      <td>129</td>\n",
       "      <td>129</td>\n",
       "      <td>1</td>\n",
       "      <td>20150930</td>\n",
       "      <td>20151101</td>\n",
       "      <td>0</td>\n",
       "    </tr>\n",
       "    <tr>\n",
       "      <th>1</th>\n",
       "      <td>AZtu6Wl0gPojrEQYB8Q3vBSmE2wnZ3hi1FbK1rQQ0A4=</td>\n",
       "      <td>41</td>\n",
       "      <td>30</td>\n",
       "      <td>149</td>\n",
       "      <td>149</td>\n",
       "      <td>1</td>\n",
       "      <td>20150930</td>\n",
       "      <td>20151031</td>\n",
       "      <td>0</td>\n",
       "    </tr>\n",
       "    <tr>\n",
       "      <th>2</th>\n",
       "      <td>UkDFI97Qb6+s2LWcijVVv4rMAsORbVDT2wNXF0aVbns=</td>\n",
       "      <td>41</td>\n",
       "      <td>30</td>\n",
       "      <td>129</td>\n",
       "      <td>129</td>\n",
       "      <td>1</td>\n",
       "      <td>20150930</td>\n",
       "      <td>20160427</td>\n",
       "      <td>0</td>\n",
       "    </tr>\n",
       "    <tr>\n",
       "      <th>3</th>\n",
       "      <td>M1C56ijxozNaGD0t2h68PnH2xtx5iO5iR2MVYQB6nBI=</td>\n",
       "      <td>39</td>\n",
       "      <td>30</td>\n",
       "      <td>149</td>\n",
       "      <td>149</td>\n",
       "      <td>1</td>\n",
       "      <td>20150930</td>\n",
       "      <td>20151128</td>\n",
       "      <td>0</td>\n",
       "    </tr>\n",
       "    <tr>\n",
       "      <th>4</th>\n",
       "      <td>yvj6zyBUaqdbUQSrKsrZ+xNDVM62knauSZJzakS9OW4=</td>\n",
       "      <td>39</td>\n",
       "      <td>30</td>\n",
       "      <td>149</td>\n",
       "      <td>149</td>\n",
       "      <td>1</td>\n",
       "      <td>20150930</td>\n",
       "      <td>20151121</td>\n",
       "      <td>0</td>\n",
       "    </tr>\n",
       "  </tbody>\n",
       "</table>\n",
       "</div>"
      ],
      "text/plain": [
       "                                           msno  payment_method_id  \\\n",
       "0  YyO+tlZtAXYXoZhNr3Vg3+dfVQvrBVGO8j1mfqe4ZHc=                 41   \n",
       "1  AZtu6Wl0gPojrEQYB8Q3vBSmE2wnZ3hi1FbK1rQQ0A4=                 41   \n",
       "2  UkDFI97Qb6+s2LWcijVVv4rMAsORbVDT2wNXF0aVbns=                 41   \n",
       "3  M1C56ijxozNaGD0t2h68PnH2xtx5iO5iR2MVYQB6nBI=                 39   \n",
       "4  yvj6zyBUaqdbUQSrKsrZ+xNDVM62knauSZJzakS9OW4=                 39   \n",
       "\n",
       "   payment_plan_days  plan_list_price  actual_amount_paid  is_auto_renew  \\\n",
       "0                 30              129                 129              1   \n",
       "1                 30              149                 149              1   \n",
       "2                 30              129                 129              1   \n",
       "3                 30              149                 149              1   \n",
       "4                 30              149                 149              1   \n",
       "\n",
       "   transaction_date  membership_expire_date  is_cancel  \n",
       "0          20150930                20151101          0  \n",
       "1          20150930                20151031          0  \n",
       "2          20150930                20160427          0  \n",
       "3          20150930                20151128          0  \n",
       "4          20150930                20151121          0  "
      ]
     },
     "execution_count": 3,
     "metadata": {},
     "output_type": "execute_result"
    }
   ],
   "source": [
    "transaction.head()"
   ]
  },
  {
   "cell_type": "code",
   "execution_count": 95,
   "metadata": {},
   "outputs": [
    {
     "data": {
      "text/html": [
       "<div>\n",
       "<table border=\"1\" class=\"dataframe\">\n",
       "  <thead>\n",
       "    <tr style=\"text-align: right;\">\n",
       "      <th></th>\n",
       "      <th>msno</th>\n",
       "      <th>payment_method_id</th>\n",
       "      <th>payment_plan_days</th>\n",
       "      <th>plan_list_price</th>\n",
       "      <th>actual_amount_paid</th>\n",
       "      <th>is_auto_renew</th>\n",
       "      <th>transaction_date</th>\n",
       "      <th>membership_expire_date</th>\n",
       "      <th>is_cancel</th>\n",
       "      <th>start</th>\n",
       "      <th>end</th>\n",
       "    </tr>\n",
       "  </thead>\n",
       "  <tbody>\n",
       "    <tr>\n",
       "      <th>5385571</th>\n",
       "      <td>lF0lx58JJRNAU7yIb8p7gQGkpHVxuZgGoBpeucDSpxo=</td>\n",
       "      <td>39</td>\n",
       "      <td>31</td>\n",
       "      <td>149</td>\n",
       "      <td>149</td>\n",
       "      <td>1</td>\n",
       "      <td>20150131</td>\n",
       "      <td>20150319</td>\n",
       "      <td>0</td>\n",
       "      <td>201501</td>\n",
       "      <td>201503</td>\n",
       "    </tr>\n",
       "    <tr>\n",
       "      <th>100</th>\n",
       "      <td>lF0lx58JJRNAU7yIb8p7gQGkpHVxuZgGoBpeucDSpxo=</td>\n",
       "      <td>39</td>\n",
       "      <td>31</td>\n",
       "      <td>149</td>\n",
       "      <td>149</td>\n",
       "      <td>1</td>\n",
       "      <td>20150228</td>\n",
       "      <td>20150419</td>\n",
       "      <td>0</td>\n",
       "      <td>201502</td>\n",
       "      <td>201504</td>\n",
       "    </tr>\n",
       "    <tr>\n",
       "      <th>6502405</th>\n",
       "      <td>lF0lx58JJRNAU7yIb8p7gQGkpHVxuZgGoBpeucDSpxo=</td>\n",
       "      <td>39</td>\n",
       "      <td>31</td>\n",
       "      <td>149</td>\n",
       "      <td>149</td>\n",
       "      <td>1</td>\n",
       "      <td>20150331</td>\n",
       "      <td>20150519</td>\n",
       "      <td>0</td>\n",
       "      <td>201503</td>\n",
       "      <td>201505</td>\n",
       "    </tr>\n",
       "    <tr>\n",
       "      <th>9947404</th>\n",
       "      <td>lF0lx58JJRNAU7yIb8p7gQGkpHVxuZgGoBpeucDSpxo=</td>\n",
       "      <td>39</td>\n",
       "      <td>0</td>\n",
       "      <td>0</td>\n",
       "      <td>149</td>\n",
       "      <td>1</td>\n",
       "      <td>20150430</td>\n",
       "      <td>20150619</td>\n",
       "      <td>0</td>\n",
       "      <td>201504</td>\n",
       "      <td>201506</td>\n",
       "    </tr>\n",
       "    <tr>\n",
       "      <th>15237221</th>\n",
       "      <td>lF0lx58JJRNAU7yIb8p7gQGkpHVxuZgGoBpeucDSpxo=</td>\n",
       "      <td>39</td>\n",
       "      <td>30</td>\n",
       "      <td>149</td>\n",
       "      <td>149</td>\n",
       "      <td>1</td>\n",
       "      <td>20150531</td>\n",
       "      <td>20150719</td>\n",
       "      <td>0</td>\n",
       "      <td>201505</td>\n",
       "      <td>201507</td>\n",
       "    </tr>\n",
       "  </tbody>\n",
       "</table>\n",
       "</div>"
      ],
      "text/plain": [
       "                                                  msno  payment_method_id  \\\n",
       "5385571   lF0lx58JJRNAU7yIb8p7gQGkpHVxuZgGoBpeucDSpxo=                 39   \n",
       "100       lF0lx58JJRNAU7yIb8p7gQGkpHVxuZgGoBpeucDSpxo=                 39   \n",
       "6502405   lF0lx58JJRNAU7yIb8p7gQGkpHVxuZgGoBpeucDSpxo=                 39   \n",
       "9947404   lF0lx58JJRNAU7yIb8p7gQGkpHVxuZgGoBpeucDSpxo=                 39   \n",
       "15237221  lF0lx58JJRNAU7yIb8p7gQGkpHVxuZgGoBpeucDSpxo=                 39   \n",
       "\n",
       "          payment_plan_days  plan_list_price  actual_amount_paid  \\\n",
       "5385571                  31              149                 149   \n",
       "100                      31              149                 149   \n",
       "6502405                  31              149                 149   \n",
       "9947404                   0                0                 149   \n",
       "15237221                 30              149                 149   \n",
       "\n",
       "          is_auto_renew  transaction_date  membership_expire_date  is_cancel  \\\n",
       "5385571               1          20150131                20150319          0   \n",
       "100                   1          20150228                20150419          0   \n",
       "6502405               1          20150331                20150519          0   \n",
       "9947404               1          20150430                20150619          0   \n",
       "15237221              1          20150531                20150719          0   \n",
       "\n",
       "           start     end  \n",
       "5385571   201501  201503  \n",
       "100       201502  201504  \n",
       "6502405   201503  201505  \n",
       "9947404   201504  201506  \n",
       "15237221  201505  201507  "
      ]
     },
     "execution_count": 95,
     "metadata": {},
     "output_type": "execute_result"
    }
   ],
   "source": [
    "transaction[transaction['msno'] == transaction.msno[100]].sort_values('transaction_date').head()"
   ]
  },
  {
   "cell_type": "markdown",
   "metadata": {},
   "source": [
    "### Recency Months"
   ]
  },
  {
   "cell_type": "markdown",
   "metadata": {},
   "source": [
    "We are going to look at each transaction one by one and finding months that the user is subscribed, dropped or maintained the subscription."
   ]
  },
  {
   "cell_type": "code",
   "execution_count": 3,
   "metadata": {
    "collapsed": true
   },
   "outputs": [],
   "source": [
    "transaction = transaction.sort_values('transaction_date')\n",
    "transaction['start'] = [int(i/100) for i in transaction['transaction_date']]\n",
    "transaction['end'] = [int(i/100) for i in transaction['membership_expire_date']]"
   ]
  },
  {
   "cell_type": "code",
   "execution_count": 4,
   "metadata": {
    "collapsed": true
   },
   "outputs": [],
   "source": [
    "unique_months = list(set([int(i/100) for i in transaction.transaction_date]))\n",
    "unique_months = sorted(unique_months)"
   ]
  },
  {
   "cell_type": "code",
   "execution_count": 7,
   "metadata": {
    "collapsed": true
   },
   "outputs": [],
   "source": [
    "recency = pd.DataFrame(-1, index = list(index), columns = unique_months)"
   ]
  },
  {
   "cell_type": "code",
   "execution_count": 29,
   "metadata": {
    "collapsed": true
   },
   "outputs": [],
   "source": [
    "recency.to_csv('data/recency.csv')"
   ]
  },
  {
   "cell_type": "code",
   "execution_count": 27,
   "metadata": {
    "scrolled": false
   },
   "outputs": [
    {
     "name": "stdout",
     "output_type": "stream",
     "text": [
      "Iteration 0 , Elapsed     8.805916\n",
      "Iteration 100000 , Elapsed     49.555628\n",
      "Iteration 200000 , Elapsed     87.346699\n",
      "Iteration 300000 , Elapsed     126.438249\n",
      "Iteration 400000 , Elapsed     168.584058\n",
      "Iteration 500000 , Elapsed     206.922030\n",
      "Iteration 600000 , Elapsed     244.903732\n",
      "Iteration 700000 , Elapsed     290.079084\n",
      "Iteration 800000 , Elapsed     337.509858\n",
      "Iteration 900000 , Elapsed     396.107013\n",
      "Iteration 1000000 , Elapsed     448.151237\n",
      "Iteration 1100000 , Elapsed     497.767064\n",
      "Iteration 1200000 , Elapsed     549.759063\n",
      "Iteration 1300000 , Elapsed     598.341953\n",
      "Iteration 1400000 , Elapsed     647.279583\n",
      "Iteration 1500000 , Elapsed     690.439991\n",
      "Iteration 1600000 , Elapsed     730.743028\n",
      "Iteration 1700000 , Elapsed     769.963148\n",
      "Iteration 1800000 , Elapsed     809.542444\n",
      "Iteration 1900000 , Elapsed     848.628345\n",
      "Iteration 2000000 , Elapsed     887.795683\n",
      "Iteration 2100000 , Elapsed     927.175555\n",
      "Iteration 2200000 , Elapsed     966.602482\n",
      "Iteration 2300000 , Elapsed     1006.374534\n",
      "Iteration 2400000 , Elapsed     1045.883271\n",
      "Iteration 2500000 , Elapsed     1130.318351\n",
      "Iteration 2600000 , Elapsed     1211.583877\n",
      "Iteration 2700000 , Elapsed     1284.010243\n",
      "Iteration 2800000 , Elapsed     1352.970282\n",
      "Iteration 2900000 , Elapsed     1424.692677\n",
      "Iteration 3000000 , Elapsed     1493.374105\n",
      "Iteration 3100000 , Elapsed     1563.094151\n",
      "Iteration 3200000 , Elapsed     1632.739660\n",
      "Iteration 3300000 , Elapsed     1705.973377\n",
      "Iteration 3400000 , Elapsed     1778.987780\n",
      "Iteration 3500000 , Elapsed     1850.478244\n",
      "Iteration 3600000 , Elapsed     1923.255042\n",
      "Iteration 3700000 , Elapsed     1996.180897\n",
      "Iteration 3800000 , Elapsed     2068.182018\n",
      "Iteration 3900000 , Elapsed     2140.147671\n",
      "Iteration 4000000 , Elapsed     2211.082899\n",
      "Iteration 4100000 , Elapsed     2279.323009\n",
      "Iteration 4200000 , Elapsed     2347.018663\n",
      "Iteration 4300000 , Elapsed     2416.105994\n",
      "Iteration 4400000 , Elapsed     2487.316634\n",
      "Iteration 4500000 , Elapsed     2559.729883\n",
      "Iteration 4600000 , Elapsed     2636.854672\n",
      "Iteration 4700000 , Elapsed     2711.365646\n",
      "Iteration 4800000 , Elapsed     2786.925275\n",
      "Iteration 4900000 , Elapsed     2863.580128\n",
      "Iteration 5000000 , Elapsed     2938.958625\n",
      "Iteration 5100000 , Elapsed     3015.130892\n",
      "Iteration 5200000 , Elapsed     3092.187881\n",
      "Iteration 5300000 , Elapsed     3158.688624\n",
      "Iteration 5400000 , Elapsed     3225.709131\n",
      "Iteration 5500000 , Elapsed     3292.299737\n"
     ]
    }
   ],
   "source": [
    "past = time.time()\n",
    "i = 0\n",
    "for index, row in transaction2.iterrows():\n",
    "    user = row['msno']\n",
    "    start = row['start']\n",
    "    end = row['end']\n",
    "    if row['is_cancel'] == 0:\n",
    "        recency.loc[user, start:end] = 0\n",
    "        recency.loc[user, start] = 1\n",
    "    elif row['is_cancel'] == 1:\n",
    "        recency.loc[user, start:] = -1\n",
    "    if i % 100000 == 0:\n",
    "        print('Iteration %d , Elapsed     %f' % (i, time.time() - past))\n",
    "    i += 1"
   ]
  },
  {
   "cell_type": "code",
   "execution_count": 42,
   "metadata": {},
   "outputs": [
    {
     "name": "stdout",
     "output_type": "stream",
     "text": [
      "Time frame: 20150101 --- 20170228\n"
     ]
    }
   ],
   "source": [
    "print('Time frame: %d --- %d' % (min(transaction.transaction_date), max(transaction.transaction_date)))"
   ]
  },
  {
   "cell_type": "markdown",
   "metadata": {},
   "source": [
    "# Transaction Summary"
   ]
  },
  {
   "cell_type": "code",
   "execution_count": 5,
   "metadata": {
    "collapsed": true
   },
   "outputs": [],
   "source": [
    "total_sub_days = transactions.groupby(['msno']).payment_plan_days.sum()\n",
    "start_sub = transactions.groupby(['msno']).transaction_date.min()\n",
    "end_sub = transactions.groupby(['msno']).membership_expire_date.max()\n",
    "num_canceled = transactions.groupby(['msno']).is_cancel.sum()\n",
    "num_auto_renew = transactions.groupby(['msno']).is_auto_renew.sum()\n",
    "num_transactions = transactions.groupby(['msno']).size()\n",
    "\n",
    "transaction_sum = pd.concat([total_sub_days, start_sub, end_sub, num_canceled, num_auto_renew, num_transactions], axis = 1)\n",
    "transaction_sum.to_csv('data/transaction_sum.csv')\n",
    "save_dir = path.join(os.getcwd(), 'data', 'transaction_sum.csv')\n",
    "transaction_sum.to_csv(save_dir, index =  False)\n",
    "print('Saved to: %s' % save_dir)"
   ]
  }
 ],
 "metadata": {
  "kernelspec": {
   "display_name": "Python 3",
   "language": "python",
   "name": "python3"
  },
  "language_info": {
   "codemirror_mode": {
    "name": "ipython",
    "version": 3
   },
   "file_extension": ".py",
   "mimetype": "text/x-python",
   "name": "python",
   "nbconvert_exporter": "python",
   "pygments_lexer": "ipython3",
   "version": "3.6.1"
  }
 },
 "nbformat": 4,
 "nbformat_minor": 2
}
