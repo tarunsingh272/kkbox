{
 "cells": [
  {
   "cell_type": "markdown",
   "metadata": {},
   "source": [
    "# Gradient Boosting Classifier"
   ]
  },
  {
   "cell_type": "code",
   "execution_count": 9,
   "metadata": {
    "collapsed": true
   },
   "outputs": [],
   "source": [
    "import pandas as pd \n",
    "import numpy as np\n",
    "\n",
    "from sklearn.model_selection import GridSearchCV\n",
    "import sklearn.metrics\n",
    "from sklearn.metrics import log_loss\n",
    "from sklearn.ensemble import GradientBoostingClassifier\n",
    "\n",
    "\n",
    "import pickle\n",
    "import os\n",
    "import os.path as path\n",
    "import sys"
   ]
  },
  {
   "cell_type": "code",
   "execution_count": 2,
   "metadata": {
    "collapsed": true
   },
   "outputs": [],
   "source": [
    "save_dir = path.join(path.dirname(os.getcwd()), 'models')\n",
    "data_dir = path.join(path.dirname(os.getcwd()), 'data', 'train_out.csv')\n",
    "\n",
    "read = open('best_features.pkl', 'rb')\n",
    "ranked_features = pickle.load(read)\n",
    "read.close()\n",
    "\n",
    "read = open('train_na.pkl', 'rb')\n",
    "train_na = pickle.load(read)\n",
    "read.close()\n",
    "\n",
    "read = open('test_na.pkl', 'rb')\n",
    "test_na = pickle.load(read)\n",
    "read.close()\n",
    "\n",
    "#ranked_features = ['expiration_date',\n",
    "#                   '201702',\n",
    "#                  'membership_expire_date',\n",
    "#                  'consecutive_ones',\n",
    "#                  'consecutive_zeros',\n",
    "#                  'registered_via_7.0',\n",
    "#                  'is_cancel',\n",
    "#                  'is_auto_renew']\n",
    "\n",
    "train_out = pd.read_csv(data_dir)\n",
    "train_out.index = train_out.msno\n",
    "avg = np.mean(train_out.loc[train_na, 'is_churn'])\n",
    "train_out = train_out[~train_na]\n",
    "train_X = train_out.drop(['msno', 'concated', 'is_churn'], axis = 1)\n",
    "train_X = train_X[ranked_features]\n",
    "train_y = train_out.is_churn\n",
    "\n",
    "data_dir = path.join(path.dirname(os.getcwd()), 'data', 'test_out.csv')\n",
    "test_out = pd.read_csv(data_dir)\n",
    "test_out.index = test_out.msno\n",
    "test_X = test_out.drop(['msno', 'concated', 'is_churn'], axis = 1)\n",
    "test_X = test_X[ranked_features]\n",
    "test_y = test_out.is_churn"
   ]
  },
  {
   "cell_type": "code",
   "execution_count": 7,
   "metadata": {},
   "outputs": [
    {
     "data": {
      "text/plain": [
       "['expiration_date',\n",
       " '201702',\n",
       " 'is_auto_renew',\n",
       " '201506',\n",
       " 'membership_expire_date',\n",
       " 'payment_plan_days',\n",
       " '201607',\n",
       " '201606']"
      ]
     },
     "execution_count": 7,
     "metadata": {},
     "output_type": "execute_result"
    }
   ],
   "source": [
    "ranked_features"
   ]
  },
  {
   "cell_type": "markdown",
   "metadata": {},
   "source": [
    "### Training the Model"
   ]
  },
  {
   "cell_type": "code",
   "execution_count": 3,
   "metadata": {},
   "outputs": [
    {
     "name": "stdout",
     "output_type": "stream",
     "text": [
      "      Iter       Train Loss   Remaining Time \n",
      "         1           0.3683            2.56m\n",
      "         2           0.3296            2.55m\n",
      "         3           0.3026            2.50m\n",
      "         4           0.2816            2.48m\n",
      "         5           0.2648            2.46m\n",
      "         6           0.2501            2.45m\n",
      "         7           0.2378            2.44m\n",
      "         8           0.2274            2.41m\n",
      "         9           0.2187            2.47m\n",
      "        10           0.2113            2.59m\n",
      "        20           0.1664            2.63m\n",
      "        30           0.1515            2.61m\n",
      "        40           0.1453            2.41m\n",
      "        50           0.1425            2.24m\n",
      "        60           0.1408            1.98m\n",
      "        70           0.1396            1.74m\n",
      "        80           0.1386            1.49m\n",
      "        90           0.1377            1.25m\n",
      "       100           0.1368            1.03m\n"
     ]
    }
   ],
   "source": [
    "gbc = GradientBoostingClassifier(max_depth = 4, min_samples_leaf = 1, min_samples_split = 2, n_estimators = 150, verbose = 1, random_state = 1)\n",
    "gbc.fit(train_X, train_y)\n",
    "prob = gbc.predict_proba(train_X)"
   ]
  },
  {
   "cell_type": "code",
   "execution_count": 4,
   "metadata": {},
   "outputs": [
    {
     "name": "stdout",
     "output_type": "stream",
     "text": [
      "Gradient Boosting log loss:           0.066893\n",
      "Gradient Boosting probs saved!\n",
      "Gradient Boosting Classifier Saved!\n"
     ]
    }
   ],
   "source": [
    "print('Gradient Boosting log loss:           %f' % log_loss(train_y, prob))\n",
    "save_dir = path.join(path.dirname(os.getcwd()), 'models', 'gbc_probs.pkl')\n",
    "output = open(save_dir, 'wb')\n",
    "pickle.dump(prob, output, protocol = pickle.HIGHEST_PROTOCOL)\n",
    "output.close()\n",
    "print('Gradient Boosting probs saved!')\n",
    "save_dir = path.join(path.dirname(os.getcwd()), 'models', 'gbc.pkl')\n",
    "output = open(save_dir, 'wb')\n",
    "pickle.dump(gbc, output, protocol = pickle.HIGHEST_PROTOCOL)\n",
    "output.close()\n",
    "print('Gradient Boosting Classifier Saved!')"
   ]
  },
  {
   "cell_type": "markdown",
   "metadata": {},
   "source": [
    "### Creating Submission File"
   ]
  },
  {
   "cell_type": "code",
   "execution_count": 5,
   "metadata": {},
   "outputs": [
    {
     "name": "stdout",
     "output_type": "stream",
     "text": [
      "Saved GBC Predictions to:      C:\\Users\\Michael\\Documents\\python\\kkbox\\submissions\\gbc_submission.csv\n"
     ]
    }
   ],
   "source": [
    "test_X = test_X.loc[~test_na]\n",
    "\n",
    "pred = gbc.predict_proba(test_X)\n",
    "pred = pred[:,1]\n",
    "index = test_out.loc[~test_na, 'msno']\n",
    "d = {\n",
    "    'msno': index,\n",
    "    'is_churn': pred\n",
    "}\n",
    "\n",
    "gbc_submission = pd.DataFrame(d)\n",
    "\n",
    "gbc_submission = gbc_submission.append(pd.DataFrame({'msno': test_na[test_na == True].index, \n",
    "                                    'is_churn': [avg] * len(test_na[test_na == True].index)}))\n",
    "\n",
    "gbc_submission.index = gbc_submission.msno\n",
    "\n",
    "save_dir = path.join(path.dirname(os.getcwd()), 'submissions')\n",
    "gbc_submission.to_csv(path.join(save_dir, 'gbc_submission.csv'), index = False)\n",
    "print('Saved GBC Predictions to:      %s' % path.join(save_dir, 'gbc_submission.csv'))"
   ]
  },
  {
   "cell_type": "code",
   "execution_count": 6,
   "metadata": {},
   "outputs": [
    {
     "data": {
      "text/plain": [
       "0.0426113948224453"
      ]
     },
     "execution_count": 6,
     "metadata": {},
     "output_type": "execute_result"
    }
   ],
   "source": [
    "np.mean(gbc_submission.is_churn)"
   ]
  }
 ],
 "metadata": {
  "kernelspec": {
   "display_name": "Python 3",
   "language": "python",
   "name": "python3"
  },
  "language_info": {
   "codemirror_mode": {
    "name": "ipython",
    "version": 3
   },
   "file_extension": ".py",
   "mimetype": "text/x-python",
   "name": "python",
   "nbconvert_exporter": "python",
   "pygments_lexer": "ipython3",
   "version": "3.6.1"
  }
 },
 "nbformat": 4,
 "nbformat_minor": 2
}
