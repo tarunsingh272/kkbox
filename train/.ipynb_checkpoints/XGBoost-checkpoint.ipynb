{
 "cells": [
  {
   "cell_type": "markdown",
   "metadata": {},
   "source": [
    "# Gradient Boosting Classifier"
   ]
  },
  {
   "cell_type": "code",
   "execution_count": 47,
   "metadata": {},
   "outputs": [],
   "source": [
    "import pandas as pd \n",
    "import numpy as np\n",
    "\n",
    "\n",
    "from sklearn.model_selection import GridSearchCV\n",
    "import sklearn.metrics\n",
    "from sklearn.metrics import log_loss\n",
    "import gc; gc.enable()\n",
    "import xgboost as xgb\n",
    "from sklearn.model_selection import train_test_split\n",
    "\n",
    "import matplotlib\n",
    "import matplotlib.pyplot as plt\n",
    "\n",
    "import pickle\n",
    "import os\n",
    "import os.path as path\n",
    "import sys"
   ]
  },
  {
   "cell_type": "code",
   "execution_count": 31,
   "metadata": {
    "collapsed": true
   },
   "outputs": [],
   "source": [
    "save_dir = path.join(path.dirname(os.getcwd()), 'models')\n",
    "data_dir = path.join(path.dirname(os.getcwd()), 'data', 'train_out.csv')\n",
    "\n",
    "read = open('best_features.pkl', 'rb')\n",
    "ranked_features = pickle.load(read)\n",
    "read.close()\n",
    "\n",
    "read = open('train_na.pkl', 'rb')\n",
    "train_na = pickle.load(read)\n",
    "read.close()\n",
    "\n",
    "read = open('test_na.pkl', 'rb')\n",
    "test_na = pickle.load(read)\n",
    "read.close()\n",
    "\n",
    "#ranked_features = ['expiration_date',\n",
    "#                   '201702',\n",
    "#                  'membership_expire_date',\n",
    "#                  'consecutive_ones',\n",
    "#                  'consecutive_zeros',\n",
    "#                  'registered_via_7.0',\n",
    "#                  'is_cancel',\n",
    "#                  'is_auto_renew']\n",
    "\n",
    "train_out = pd.read_csv(data_dir)\n",
    "train_out.index = train_out.msno\n",
    "avg = np.mean(train_out.loc[train_na, 'is_churn'])\n",
    "train_out = train_out[~train_na]\n",
    "train_X = train_out.drop(['msno', 'concated', 'is_churn'], axis = 1)\n",
    "#train_X = train_X[ranked_features]\n",
    "train_y = train_out.is_churn\n",
    "\n",
    "data_dir = path.join(path.dirname(os.getcwd()), 'data', 'test_out.csv')\n",
    "test_out = pd.read_csv(data_dir)\n",
    "test_out.index = test_out.msno\n",
    "test_X = test_out.drop(['msno', 'concated', 'is_churn'], axis = 1)\n",
    "#test_X = test_X[ranked_features]\n",
    "test_y = test_out.is_churn"
   ]
  },
  {
   "cell_type": "code",
   "execution_count": 70,
   "metadata": {},
   "outputs": [
    {
     "data": {
      "text/plain": [
       "['expiration_date',\n",
       " '201702',\n",
       " 'is_auto_renew',\n",
       " 'membership_expire_date',\n",
       " '201509',\n",
       " 'city_12.0',\n",
       " 'city_14.0',\n",
       " 'city_18.0',\n",
       " '201502',\n",
       " 'city_10.0',\n",
       " 'registered_via_13.0',\n",
       " 'consecutive_ones',\n",
       " 'is_cancel',\n",
       " 'registered_via_7.0',\n",
       " '201505',\n",
       " 'city_21.0',\n",
       " 'city_6.0',\n",
       " 'num_unq',\n",
       " '201511']"
      ]
     },
     "execution_count": 70,
     "metadata": {},
     "output_type": "execute_result"
    }
   ],
   "source": [
    "ranked_features = ['expiration_date',\n",
    "                   '201702',\n",
    "                  'membership_expire_date',\n",
    "                  'consecutive_ones',\n",
    "                  'consecutive_zeros',\n",
    "                  'registered_via_7.0',\n",
    "                  'is_cancel',\n",
    "                  'is_auto_renew']"
   ]
  },
  {
   "cell_type": "markdown",
   "metadata": {},
   "source": [
    "### Training the Model"
   ]
  },
  {
   "cell_type": "code",
   "execution_count": 32,
   "metadata": {},
   "outputs": [
    {
     "name": "stdout",
     "output_type": "stream",
     "text": [
      "[0]\ttrain-log_loss:0.674897\tvalid-log_loss:0.67489\n",
      "Multiple eval metrics have been passed: 'valid-log_loss' will be used for early stopping.\n",
      "\n",
      "Will train until valid-log_loss hasn't improved in 50 rounds.\n",
      "[50]\ttrain-log_loss:0.237721\tvalid-log_loss:0.237788\n",
      "[100]\ttrain-log_loss:0.120564\tvalid-log_loss:0.120955\n"
     ]
    }
   ],
   "source": [
    "def xgb_score(preds, dtrain):\n",
    "    labels = dtrain.get_label()\n",
    "    return 'log_loss', log_loss(labels, preds)\n",
    "\n",
    "fold = 1\n",
    "for i in range(fold):\n",
    "\n",
    "    params = {\n",
    "        'eta': 0.02, #use 0.002\n",
    "        'max_depth': 7,\n",
    "        'objective': 'binary:logistic',\n",
    "        'eval_metric': 'logloss',\n",
    "        'seed': i,\n",
    "        'silent': True\n",
    "    }\n",
    "\n",
    "    x1, x2, y1, y2 = train_test_split(train_X, train_y, test_size=0.3, random_state=i)\n",
    "    watchlist = [(xgb.DMatrix(x1, y1), 'train'), (xgb.DMatrix(x2, y2), 'valid')]\n",
    "    model = xgb.train(params, xgb.DMatrix(x1, y1), 150,  watchlist, \n",
    "                      feval=xgb_score, maximize=False, verbose_eval=50, early_stopping_rounds=50)\n",
    "    if i != 0:\n",
    "        pred += model.predict(xgb.DMatrix(test_X), ntree_limit=model.best_ntree_limit)\n",
    "    else:\n",
    "        pred = model.predict(xgb.DMatrix(test_X), ntree_limit=model.best_ntree_limit)\n",
    "    \n",
    "pred /= fold\n",
    "pred = pred.clip(0.0000001, 0.999999)"
   ]
  },
  {
   "cell_type": "code",
   "execution_count": 33,
   "metadata": {},
   "outputs": [
    {
     "data": {
      "text/plain": [
       "0.063030228"
      ]
     },
     "execution_count": 33,
     "metadata": {},
     "output_type": "execute_result"
    }
   ],
   "source": [
    "np.mean(pred)"
   ]
  },
  {
   "cell_type": "markdown",
   "metadata": {},
   "source": [
    "### Creating Submission File"
   ]
  },
  {
   "cell_type": "code",
   "execution_count": 34,
   "metadata": {},
   "outputs": [
    {
     "data": {
      "text/html": [
       "<div>\n",
       "<table border=\"1\" class=\"dataframe\">\n",
       "  <thead>\n",
       "    <tr style=\"text-align: right;\">\n",
       "      <th></th>\n",
       "      <th>201501</th>\n",
       "      <th>201502</th>\n",
       "      <th>201503</th>\n",
       "      <th>201504</th>\n",
       "      <th>201505</th>\n",
       "      <th>201506</th>\n",
       "      <th>201507</th>\n",
       "      <th>201508</th>\n",
       "      <th>201509</th>\n",
       "      <th>201510</th>\n",
       "      <th>...</th>\n",
       "      <th>city_999.0</th>\n",
       "      <th>gender_NA</th>\n",
       "      <th>gender_female</th>\n",
       "      <th>gender_male</th>\n",
       "      <th>registered_via_3.0</th>\n",
       "      <th>registered_via_4.0</th>\n",
       "      <th>registered_via_7.0</th>\n",
       "      <th>registered_via_9.0</th>\n",
       "      <th>registered_via_13.0</th>\n",
       "      <th>registered_via_999.0</th>\n",
       "    </tr>\n",
       "    <tr>\n",
       "      <th>msno</th>\n",
       "      <th></th>\n",
       "      <th></th>\n",
       "      <th></th>\n",
       "      <th></th>\n",
       "      <th></th>\n",
       "      <th></th>\n",
       "      <th></th>\n",
       "      <th></th>\n",
       "      <th></th>\n",
       "      <th></th>\n",
       "      <th></th>\n",
       "      <th></th>\n",
       "      <th></th>\n",
       "      <th></th>\n",
       "      <th></th>\n",
       "      <th></th>\n",
       "      <th></th>\n",
       "      <th></th>\n",
       "      <th></th>\n",
       "      <th></th>\n",
       "      <th></th>\n",
       "    </tr>\n",
       "  </thead>\n",
       "  <tbody>\n",
       "    <tr>\n",
       "      <th>ugx0CjOMzazClkFzU2xasmDZaoIqOUAZPsH1q0teWCg=</th>\n",
       "      <td>-1.0</td>\n",
       "      <td>-1.0</td>\n",
       "      <td>1.0</td>\n",
       "      <td>0.0</td>\n",
       "      <td>-1.0</td>\n",
       "      <td>1.0</td>\n",
       "      <td>1.0</td>\n",
       "      <td>1.0</td>\n",
       "      <td>-1.0</td>\n",
       "      <td>-1.0</td>\n",
       "      <td>...</td>\n",
       "      <td>0.0</td>\n",
       "      <td>0.0</td>\n",
       "      <td>0.0</td>\n",
       "      <td>1.0</td>\n",
       "      <td>1.0</td>\n",
       "      <td>0.0</td>\n",
       "      <td>0.0</td>\n",
       "      <td>0.0</td>\n",
       "      <td>0.0</td>\n",
       "      <td>0.0</td>\n",
       "    </tr>\n",
       "    <tr>\n",
       "      <th>f/NmvEzHfhINFEYZTR05prUdr+E+3+oewvweYz9cCQE=</th>\n",
       "      <td>-1.0</td>\n",
       "      <td>-1.0</td>\n",
       "      <td>-1.0</td>\n",
       "      <td>-1.0</td>\n",
       "      <td>-1.0</td>\n",
       "      <td>-1.0</td>\n",
       "      <td>-1.0</td>\n",
       "      <td>-1.0</td>\n",
       "      <td>-1.0</td>\n",
       "      <td>-1.0</td>\n",
       "      <td>...</td>\n",
       "      <td>0.0</td>\n",
       "      <td>0.0</td>\n",
       "      <td>0.0</td>\n",
       "      <td>1.0</td>\n",
       "      <td>1.0</td>\n",
       "      <td>0.0</td>\n",
       "      <td>0.0</td>\n",
       "      <td>0.0</td>\n",
       "      <td>0.0</td>\n",
       "      <td>0.0</td>\n",
       "    </tr>\n",
       "    <tr>\n",
       "      <th>zLo9f73nGGT1p21ltZC3ChiRnAVvgibMyazbCxvWPcg=</th>\n",
       "      <td>-1.0</td>\n",
       "      <td>-1.0</td>\n",
       "      <td>-1.0</td>\n",
       "      <td>-1.0</td>\n",
       "      <td>-1.0</td>\n",
       "      <td>-1.0</td>\n",
       "      <td>-1.0</td>\n",
       "      <td>1.0</td>\n",
       "      <td>1.0</td>\n",
       "      <td>1.0</td>\n",
       "      <td>...</td>\n",
       "      <td>0.0</td>\n",
       "      <td>0.0</td>\n",
       "      <td>0.0</td>\n",
       "      <td>1.0</td>\n",
       "      <td>1.0</td>\n",
       "      <td>0.0</td>\n",
       "      <td>0.0</td>\n",
       "      <td>0.0</td>\n",
       "      <td>0.0</td>\n",
       "      <td>0.0</td>\n",
       "    </tr>\n",
       "    <tr>\n",
       "      <th>8iF/+8HY8lJKFrTc7iR9ZYGCG2Ecrogbc2Vy5YhsfhQ=</th>\n",
       "      <td>1.0</td>\n",
       "      <td>1.0</td>\n",
       "      <td>1.0</td>\n",
       "      <td>1.0</td>\n",
       "      <td>1.0</td>\n",
       "      <td>1.0</td>\n",
       "      <td>1.0</td>\n",
       "      <td>0.0</td>\n",
       "      <td>0.0</td>\n",
       "      <td>0.0</td>\n",
       "      <td>...</td>\n",
       "      <td>0.0</td>\n",
       "      <td>1.0</td>\n",
       "      <td>0.0</td>\n",
       "      <td>0.0</td>\n",
       "      <td>0.0</td>\n",
       "      <td>0.0</td>\n",
       "      <td>1.0</td>\n",
       "      <td>0.0</td>\n",
       "      <td>0.0</td>\n",
       "      <td>0.0</td>\n",
       "    </tr>\n",
       "    <tr>\n",
       "      <th>K6fja4+jmoZ5xG6BypqX80Uw/XKpMgrEMdG2edFOxnA=</th>\n",
       "      <td>1.0</td>\n",
       "      <td>1.0</td>\n",
       "      <td>1.0</td>\n",
       "      <td>-1.0</td>\n",
       "      <td>1.0</td>\n",
       "      <td>1.0</td>\n",
       "      <td>1.0</td>\n",
       "      <td>1.0</td>\n",
       "      <td>1.0</td>\n",
       "      <td>1.0</td>\n",
       "      <td>...</td>\n",
       "      <td>0.0</td>\n",
       "      <td>0.0</td>\n",
       "      <td>1.0</td>\n",
       "      <td>0.0</td>\n",
       "      <td>0.0</td>\n",
       "      <td>0.0</td>\n",
       "      <td>1.0</td>\n",
       "      <td>0.0</td>\n",
       "      <td>0.0</td>\n",
       "      <td>0.0</td>\n",
       "    </tr>\n",
       "  </tbody>\n",
       "</table>\n",
       "<p>5 rows × 70 columns</p>\n",
       "</div>"
      ],
      "text/plain": [
       "                                              201501  201502  201503  201504  \\\n",
       "msno                                                                           \n",
       "ugx0CjOMzazClkFzU2xasmDZaoIqOUAZPsH1q0teWCg=    -1.0    -1.0     1.0     0.0   \n",
       "f/NmvEzHfhINFEYZTR05prUdr+E+3+oewvweYz9cCQE=    -1.0    -1.0    -1.0    -1.0   \n",
       "zLo9f73nGGT1p21ltZC3ChiRnAVvgibMyazbCxvWPcg=    -1.0    -1.0    -1.0    -1.0   \n",
       "8iF/+8HY8lJKFrTc7iR9ZYGCG2Ecrogbc2Vy5YhsfhQ=     1.0     1.0     1.0     1.0   \n",
       "K6fja4+jmoZ5xG6BypqX80Uw/XKpMgrEMdG2edFOxnA=     1.0     1.0     1.0    -1.0   \n",
       "\n",
       "                                              201505  201506  201507  201508  \\\n",
       "msno                                                                           \n",
       "ugx0CjOMzazClkFzU2xasmDZaoIqOUAZPsH1q0teWCg=    -1.0     1.0     1.0     1.0   \n",
       "f/NmvEzHfhINFEYZTR05prUdr+E+3+oewvweYz9cCQE=    -1.0    -1.0    -1.0    -1.0   \n",
       "zLo9f73nGGT1p21ltZC3ChiRnAVvgibMyazbCxvWPcg=    -1.0    -1.0    -1.0     1.0   \n",
       "8iF/+8HY8lJKFrTc7iR9ZYGCG2Ecrogbc2Vy5YhsfhQ=     1.0     1.0     1.0     0.0   \n",
       "K6fja4+jmoZ5xG6BypqX80Uw/XKpMgrEMdG2edFOxnA=     1.0     1.0     1.0     1.0   \n",
       "\n",
       "                                              201509  201510  \\\n",
       "msno                                                           \n",
       "ugx0CjOMzazClkFzU2xasmDZaoIqOUAZPsH1q0teWCg=    -1.0    -1.0   \n",
       "f/NmvEzHfhINFEYZTR05prUdr+E+3+oewvweYz9cCQE=    -1.0    -1.0   \n",
       "zLo9f73nGGT1p21ltZC3ChiRnAVvgibMyazbCxvWPcg=     1.0     1.0   \n",
       "8iF/+8HY8lJKFrTc7iR9ZYGCG2Ecrogbc2Vy5YhsfhQ=     0.0     0.0   \n",
       "K6fja4+jmoZ5xG6BypqX80Uw/XKpMgrEMdG2edFOxnA=     1.0     1.0   \n",
       "\n",
       "                                                      ...           \\\n",
       "msno                                                  ...            \n",
       "ugx0CjOMzazClkFzU2xasmDZaoIqOUAZPsH1q0teWCg=          ...            \n",
       "f/NmvEzHfhINFEYZTR05prUdr+E+3+oewvweYz9cCQE=          ...            \n",
       "zLo9f73nGGT1p21ltZC3ChiRnAVvgibMyazbCxvWPcg=          ...            \n",
       "8iF/+8HY8lJKFrTc7iR9ZYGCG2Ecrogbc2Vy5YhsfhQ=          ...            \n",
       "K6fja4+jmoZ5xG6BypqX80Uw/XKpMgrEMdG2edFOxnA=          ...            \n",
       "\n",
       "                                              city_999.0  gender_NA  \\\n",
       "msno                                                                  \n",
       "ugx0CjOMzazClkFzU2xasmDZaoIqOUAZPsH1q0teWCg=         0.0        0.0   \n",
       "f/NmvEzHfhINFEYZTR05prUdr+E+3+oewvweYz9cCQE=         0.0        0.0   \n",
       "zLo9f73nGGT1p21ltZC3ChiRnAVvgibMyazbCxvWPcg=         0.0        0.0   \n",
       "8iF/+8HY8lJKFrTc7iR9ZYGCG2Ecrogbc2Vy5YhsfhQ=         0.0        1.0   \n",
       "K6fja4+jmoZ5xG6BypqX80Uw/XKpMgrEMdG2edFOxnA=         0.0        0.0   \n",
       "\n",
       "                                              gender_female  gender_male  \\\n",
       "msno                                                                       \n",
       "ugx0CjOMzazClkFzU2xasmDZaoIqOUAZPsH1q0teWCg=            0.0          1.0   \n",
       "f/NmvEzHfhINFEYZTR05prUdr+E+3+oewvweYz9cCQE=            0.0          1.0   \n",
       "zLo9f73nGGT1p21ltZC3ChiRnAVvgibMyazbCxvWPcg=            0.0          1.0   \n",
       "8iF/+8HY8lJKFrTc7iR9ZYGCG2Ecrogbc2Vy5YhsfhQ=            0.0          0.0   \n",
       "K6fja4+jmoZ5xG6BypqX80Uw/XKpMgrEMdG2edFOxnA=            1.0          0.0   \n",
       "\n",
       "                                              registered_via_3.0  \\\n",
       "msno                                                               \n",
       "ugx0CjOMzazClkFzU2xasmDZaoIqOUAZPsH1q0teWCg=                 1.0   \n",
       "f/NmvEzHfhINFEYZTR05prUdr+E+3+oewvweYz9cCQE=                 1.0   \n",
       "zLo9f73nGGT1p21ltZC3ChiRnAVvgibMyazbCxvWPcg=                 1.0   \n",
       "8iF/+8HY8lJKFrTc7iR9ZYGCG2Ecrogbc2Vy5YhsfhQ=                 0.0   \n",
       "K6fja4+jmoZ5xG6BypqX80Uw/XKpMgrEMdG2edFOxnA=                 0.0   \n",
       "\n",
       "                                              registered_via_4.0  \\\n",
       "msno                                                               \n",
       "ugx0CjOMzazClkFzU2xasmDZaoIqOUAZPsH1q0teWCg=                 0.0   \n",
       "f/NmvEzHfhINFEYZTR05prUdr+E+3+oewvweYz9cCQE=                 0.0   \n",
       "zLo9f73nGGT1p21ltZC3ChiRnAVvgibMyazbCxvWPcg=                 0.0   \n",
       "8iF/+8HY8lJKFrTc7iR9ZYGCG2Ecrogbc2Vy5YhsfhQ=                 0.0   \n",
       "K6fja4+jmoZ5xG6BypqX80Uw/XKpMgrEMdG2edFOxnA=                 0.0   \n",
       "\n",
       "                                              registered_via_7.0  \\\n",
       "msno                                                               \n",
       "ugx0CjOMzazClkFzU2xasmDZaoIqOUAZPsH1q0teWCg=                 0.0   \n",
       "f/NmvEzHfhINFEYZTR05prUdr+E+3+oewvweYz9cCQE=                 0.0   \n",
       "zLo9f73nGGT1p21ltZC3ChiRnAVvgibMyazbCxvWPcg=                 0.0   \n",
       "8iF/+8HY8lJKFrTc7iR9ZYGCG2Ecrogbc2Vy5YhsfhQ=                 1.0   \n",
       "K6fja4+jmoZ5xG6BypqX80Uw/XKpMgrEMdG2edFOxnA=                 1.0   \n",
       "\n",
       "                                              registered_via_9.0  \\\n",
       "msno                                                               \n",
       "ugx0CjOMzazClkFzU2xasmDZaoIqOUAZPsH1q0teWCg=                 0.0   \n",
       "f/NmvEzHfhINFEYZTR05prUdr+E+3+oewvweYz9cCQE=                 0.0   \n",
       "zLo9f73nGGT1p21ltZC3ChiRnAVvgibMyazbCxvWPcg=                 0.0   \n",
       "8iF/+8HY8lJKFrTc7iR9ZYGCG2Ecrogbc2Vy5YhsfhQ=                 0.0   \n",
       "K6fja4+jmoZ5xG6BypqX80Uw/XKpMgrEMdG2edFOxnA=                 0.0   \n",
       "\n",
       "                                              registered_via_13.0  \\\n",
       "msno                                                                \n",
       "ugx0CjOMzazClkFzU2xasmDZaoIqOUAZPsH1q0teWCg=                  0.0   \n",
       "f/NmvEzHfhINFEYZTR05prUdr+E+3+oewvweYz9cCQE=                  0.0   \n",
       "zLo9f73nGGT1p21ltZC3ChiRnAVvgibMyazbCxvWPcg=                  0.0   \n",
       "8iF/+8HY8lJKFrTc7iR9ZYGCG2Ecrogbc2Vy5YhsfhQ=                  0.0   \n",
       "K6fja4+jmoZ5xG6BypqX80Uw/XKpMgrEMdG2edFOxnA=                  0.0   \n",
       "\n",
       "                                              registered_via_999.0  \n",
       "msno                                                                \n",
       "ugx0CjOMzazClkFzU2xasmDZaoIqOUAZPsH1q0teWCg=                   0.0  \n",
       "f/NmvEzHfhINFEYZTR05prUdr+E+3+oewvweYz9cCQE=                   0.0  \n",
       "zLo9f73nGGT1p21ltZC3ChiRnAVvgibMyazbCxvWPcg=                   0.0  \n",
       "8iF/+8HY8lJKFrTc7iR9ZYGCG2Ecrogbc2Vy5YhsfhQ=                   0.0  \n",
       "K6fja4+jmoZ5xG6BypqX80Uw/XKpMgrEMdG2edFOxnA=                   0.0  \n",
       "\n",
       "[5 rows x 70 columns]"
      ]
     },
     "execution_count": 34,
     "metadata": {},
     "output_type": "execute_result"
    }
   ],
   "source": [
    "test_X.head()"
   ]
  },
  {
   "cell_type": "code",
   "execution_count": 35,
   "metadata": {},
   "outputs": [
    {
     "name": "stdout",
     "output_type": "stream",
     "text": [
      "Saved XGB Predictions to:      C:\\Users\\Michael\\Documents\\python\\kkbox\\submissions\\xgb_submission.csv\n"
     ]
    }
   ],
   "source": [
    "index = test_out.index\n",
    "d = {\n",
    "    'msno': index,\n",
    "    'is_churn': pred\n",
    "}\n",
    "\n",
    "xgb_submission = pd.DataFrame(d)\n",
    "\n",
    "save_dir = path.join(path.dirname(os.getcwd()), 'submissions')\n",
    "xgb_submission.to_csv(path.join(save_dir, 'xgb_submission.csv'), index = False)\n",
    "print('Saved XGB Predictions to:      %s' % path.join(save_dir, 'xgb_submission.csv'))"
   ]
  },
  {
   "cell_type": "markdown",
   "metadata": {},
   "source": [
    "# Second Fold Prediction"
   ]
  },
  {
   "cell_type": "code",
   "execution_count": 36,
   "metadata": {},
   "outputs": [],
   "source": [
    "temp = test_X.ix[:, 2:25]\n",
    "test_X.ix[:, 1:24] = temp\n",
    "test_X.ix[:, 25] = pred"
   ]
  },
  {
   "cell_type": "code",
   "execution_count": 37,
   "metadata": {},
   "outputs": [],
   "source": [
    "test_X.ix[:, 25] = np.round(test_X.ix[:, 25])"
   ]
  },
  {
   "cell_type": "code",
   "execution_count": 38,
   "metadata": {},
   "outputs": [
    {
     "name": "stdout",
     "output_type": "stream",
     "text": [
      "[0]\ttrain-log_loss:0.674897\tvalid-log_loss:0.67489\n",
      "Multiple eval metrics have been passed: 'valid-log_loss' will be used for early stopping.\n",
      "\n",
      "Will train until valid-log_loss hasn't improved in 50 rounds.\n",
      "[50]\ttrain-log_loss:0.237721\tvalid-log_loss:0.237788\n",
      "[100]\ttrain-log_loss:0.120564\tvalid-log_loss:0.120955\n"
     ]
    }
   ],
   "source": [
    "def xgb_score(preds, dtrain):\n",
    "    labels = dtrain.get_label()\n",
    "    return 'log_loss', log_loss(labels, preds)\n",
    "\n",
    "fold = 1\n",
    "for i in range(fold):\n",
    "\n",
    "    params = {\n",
    "        'eta': 0.02, #use 0.002\n",
    "        'max_depth': 7,\n",
    "        'objective': 'binary:logistic',\n",
    "        'eval_metric': 'logloss',\n",
    "        'seed': i,\n",
    "        'silent': True\n",
    "    }\n",
    "\n",
    "    x1, x2, y1, y2 = train_test_split(train_X, train_y, test_size=0.3, random_state=i)\n",
    "    watchlist = [(xgb.DMatrix(x1, y1), 'train'), (xgb.DMatrix(x2, y2), 'valid')]\n",
    "    model = xgb.train(params, xgb.DMatrix(x1, y1), 150,  watchlist, \n",
    "                      feval=xgb_score, maximize=False, verbose_eval=50, early_stopping_rounds=50)\n",
    "    if i != 0:\n",
    "        pred += model.predict(xgb.DMatrix(test_X), ntree_limit=model.best_ntree_limit)\n",
    "    else:\n",
    "        pred = model.predict(xgb.DMatrix(test_X), ntree_limit=model.best_ntree_limit)\n",
    "    \n",
    "pred /= fold\n",
    "pred = pred.clip(0.0000001, 0.999999)"
   ]
  },
  {
   "cell_type": "code",
   "execution_count": 39,
   "metadata": {},
   "outputs": [
    {
     "name": "stdout",
     "output_type": "stream",
     "text": [
      "Saved XGB2 Predictions to:      C:\\Users\\Michael\\Documents\\python\\kkbox\\submissions\\xgb2_submission.csv\n"
     ]
    }
   ],
   "source": [
    "index = test_out.index\n",
    "d = {\n",
    "    'msno': index,\n",
    "    'is_churn': pred\n",
    "}\n",
    "\n",
    "xgb2_submission = pd.DataFrame(d)\n",
    "\n",
    "save_dir = path.join(path.dirname(os.getcwd()), 'submissions')\n",
    "xgb2_submission.to_csv(path.join(save_dir, 'xgb2_submission.csv'), index = False)\n",
    "print('Saved XGB2 Predictions to:      %s' % path.join(save_dir, 'xgb2_submission.csv'))"
   ]
  },
  {
   "cell_type": "code",
   "execution_count": 40,
   "metadata": {},
   "outputs": [
    {
     "data": {
      "text/plain": [
       "0.090402849"
      ]
     },
     "execution_count": 40,
     "metadata": {},
     "output_type": "execute_result"
    }
   ],
   "source": [
    "np.mean(pred)"
   ]
  },
  {
   "cell_type": "code",
   "execution_count": 53,
   "metadata": {},
   "outputs": [
    {
     "ename": "AttributeError",
     "evalue": "Unknown property max_num_features",
     "output_type": "error",
     "traceback": [
      "\u001b[1;31m---------------------------------------------------------------------------\u001b[0m",
      "\u001b[1;31mAttributeError\u001b[0m                            Traceback (most recent call last)",
      "\u001b[1;32m<ipython-input-53-d4c304745880>\u001b[0m in \u001b[0;36m<module>\u001b[1;34m()\u001b[0m\n\u001b[1;32m----> 1\u001b[1;33m \u001b[0mxgb\u001b[0m\u001b[1;33m.\u001b[0m\u001b[0mplot_importance\u001b[0m\u001b[1;33m(\u001b[0m\u001b[0mmodel\u001b[0m\u001b[1;33m,\u001b[0m \u001b[0mmax_num_features\u001b[0m\u001b[1;33m=\u001b[0m\u001b[1;36m10\u001b[0m\u001b[1;33m)\u001b[0m\u001b[1;33m\u001b[0m\u001b[0m\n\u001b[0m\u001b[0;32m      2\u001b[0m \u001b[0mplt\u001b[0m\u001b[1;33m.\u001b[0m\u001b[0mshow\u001b[0m\u001b[1;33m(\u001b[0m\u001b[1;33m)\u001b[0m\u001b[1;33m\u001b[0m\u001b[0m\n",
      "\u001b[1;32mC:\\Users\\Michael\\Anaconda3\\lib\\site-packages\\xgboost\\plotting.py\u001b[0m in \u001b[0;36mplot_importance\u001b[1;34m(booster, ax, height, xlim, ylim, title, xlabel, ylabel, importance_type, grid, **kwargs)\u001b[0m\n\u001b[0;32m     77\u001b[0m \u001b[1;33m\u001b[0m\u001b[0m\n\u001b[0;32m     78\u001b[0m     \u001b[0mylocs\u001b[0m \u001b[1;33m=\u001b[0m \u001b[0mnp\u001b[0m\u001b[1;33m.\u001b[0m\u001b[0marange\u001b[0m\u001b[1;33m(\u001b[0m\u001b[0mlen\u001b[0m\u001b[1;33m(\u001b[0m\u001b[0mvalues\u001b[0m\u001b[1;33m)\u001b[0m\u001b[1;33m)\u001b[0m\u001b[1;33m\u001b[0m\u001b[0m\n\u001b[1;32m---> 79\u001b[1;33m     \u001b[0max\u001b[0m\u001b[1;33m.\u001b[0m\u001b[0mbarh\u001b[0m\u001b[1;33m(\u001b[0m\u001b[0mylocs\u001b[0m\u001b[1;33m,\u001b[0m \u001b[0mvalues\u001b[0m\u001b[1;33m,\u001b[0m \u001b[0malign\u001b[0m\u001b[1;33m=\u001b[0m\u001b[1;34m'center'\u001b[0m\u001b[1;33m,\u001b[0m \u001b[0mheight\u001b[0m\u001b[1;33m=\u001b[0m\u001b[0mheight\u001b[0m\u001b[1;33m,\u001b[0m \u001b[1;33m**\u001b[0m\u001b[0mkwargs\u001b[0m\u001b[1;33m)\u001b[0m\u001b[1;33m\u001b[0m\u001b[0m\n\u001b[0m\u001b[0;32m     80\u001b[0m \u001b[1;33m\u001b[0m\u001b[0m\n\u001b[0;32m     81\u001b[0m     \u001b[1;32mfor\u001b[0m \u001b[0mx\u001b[0m\u001b[1;33m,\u001b[0m \u001b[0my\u001b[0m \u001b[1;32min\u001b[0m \u001b[0mzip\u001b[0m\u001b[1;33m(\u001b[0m\u001b[0mvalues\u001b[0m\u001b[1;33m,\u001b[0m \u001b[0mylocs\u001b[0m\u001b[1;33m)\u001b[0m\u001b[1;33m:\u001b[0m\u001b[1;33m\u001b[0m\u001b[0m\n",
      "\u001b[1;32mC:\\Users\\Michael\\Anaconda3\\lib\\site-packages\\matplotlib\\axes\\_axes.py\u001b[0m in \u001b[0;36mbarh\u001b[1;34m(self, bottom, width, height, left, **kwargs)\u001b[0m\n\u001b[0;32m   2283\u001b[0m \u001b[1;33m\u001b[0m\u001b[0m\n\u001b[0;32m   2284\u001b[0m         patches = self.bar(left=left, height=height, width=width,\n\u001b[1;32m-> 2285\u001b[1;33m                            bottom=bottom, orientation='horizontal', **kwargs)\n\u001b[0m\u001b[0;32m   2286\u001b[0m         \u001b[1;32mreturn\u001b[0m \u001b[0mpatches\u001b[0m\u001b[1;33m\u001b[0m\u001b[0m\n\u001b[0;32m   2287\u001b[0m \u001b[1;33m\u001b[0m\u001b[0m\n",
      "\u001b[1;32mC:\\Users\\Michael\\Anaconda3\\lib\\site-packages\\matplotlib\\__init__.py\u001b[0m in \u001b[0;36minner\u001b[1;34m(ax, *args, **kwargs)\u001b[0m\n\u001b[0;32m   1895\u001b[0m                     warnings.warn(msg % (label_namer, func.__name__),\n\u001b[0;32m   1896\u001b[0m                                   RuntimeWarning, stacklevel=2)\n\u001b[1;32m-> 1897\u001b[1;33m             \u001b[1;32mreturn\u001b[0m \u001b[0mfunc\u001b[0m\u001b[1;33m(\u001b[0m\u001b[0max\u001b[0m\u001b[1;33m,\u001b[0m \u001b[1;33m*\u001b[0m\u001b[0margs\u001b[0m\u001b[1;33m,\u001b[0m \u001b[1;33m**\u001b[0m\u001b[0mkwargs\u001b[0m\u001b[1;33m)\u001b[0m\u001b[1;33m\u001b[0m\u001b[0m\n\u001b[0m\u001b[0;32m   1898\u001b[0m         \u001b[0mpre_doc\u001b[0m \u001b[1;33m=\u001b[0m \u001b[0minner\u001b[0m\u001b[1;33m.\u001b[0m\u001b[0m__doc__\u001b[0m\u001b[1;33m\u001b[0m\u001b[0m\n\u001b[0;32m   1899\u001b[0m         \u001b[1;32mif\u001b[0m \u001b[0mpre_doc\u001b[0m \u001b[1;32mis\u001b[0m \u001b[1;32mNone\u001b[0m\u001b[1;33m:\u001b[0m\u001b[1;33m\u001b[0m\u001b[0m\n",
      "\u001b[1;32mC:\\Users\\Michael\\Anaconda3\\lib\\site-packages\\matplotlib\\axes\\_axes.py\u001b[0m in \u001b[0;36mbar\u001b[1;34m(self, left, height, width, bottom, **kwargs)\u001b[0m\n\u001b[0;32m   2120\u001b[0m                 \u001b[0mlabel\u001b[0m\u001b[1;33m=\u001b[0m\u001b[1;34m'_nolegend_'\u001b[0m\u001b[1;33m,\u001b[0m\u001b[1;33m\u001b[0m\u001b[0m\n\u001b[0;32m   2121\u001b[0m                 )\n\u001b[1;32m-> 2122\u001b[1;33m             \u001b[0mr\u001b[0m\u001b[1;33m.\u001b[0m\u001b[0mupdate\u001b[0m\u001b[1;33m(\u001b[0m\u001b[0mkwargs\u001b[0m\u001b[1;33m)\u001b[0m\u001b[1;33m\u001b[0m\u001b[0m\n\u001b[0m\u001b[0;32m   2123\u001b[0m             \u001b[0mr\u001b[0m\u001b[1;33m.\u001b[0m\u001b[0mget_path\u001b[0m\u001b[1;33m(\u001b[0m\u001b[1;33m)\u001b[0m\u001b[1;33m.\u001b[0m\u001b[0m_interpolation_steps\u001b[0m \u001b[1;33m=\u001b[0m \u001b[1;36m100\u001b[0m\u001b[1;33m\u001b[0m\u001b[0m\n\u001b[0;32m   2124\u001b[0m             \u001b[1;32mif\u001b[0m \u001b[0morientation\u001b[0m \u001b[1;33m==\u001b[0m \u001b[1;34m'vertical'\u001b[0m\u001b[1;33m:\u001b[0m\u001b[1;33m\u001b[0m\u001b[0m\n",
      "\u001b[1;32mC:\\Users\\Michael\\Anaconda3\\lib\\site-packages\\matplotlib\\artist.py\u001b[0m in \u001b[0;36mupdate\u001b[1;34m(self, props)\u001b[0m\n\u001b[0;32m    883\u001b[0m         \u001b[1;32mtry\u001b[0m\u001b[1;33m:\u001b[0m\u001b[1;33m\u001b[0m\u001b[0m\n\u001b[0;32m    884\u001b[0m             ret = [_update_property(self, k, v)\n\u001b[1;32m--> 885\u001b[1;33m                    for k, v in props.items()]\n\u001b[0m\u001b[0;32m    886\u001b[0m         \u001b[1;32mfinally\u001b[0m\u001b[1;33m:\u001b[0m\u001b[1;33m\u001b[0m\u001b[0m\n\u001b[0;32m    887\u001b[0m             \u001b[0mself\u001b[0m\u001b[1;33m.\u001b[0m\u001b[0meventson\u001b[0m \u001b[1;33m=\u001b[0m \u001b[0mstore\u001b[0m\u001b[1;33m\u001b[0m\u001b[0m\n",
      "\u001b[1;32mC:\\Users\\Michael\\Anaconda3\\lib\\site-packages\\matplotlib\\artist.py\u001b[0m in \u001b[0;36m<listcomp>\u001b[1;34m(.0)\u001b[0m\n\u001b[0;32m    883\u001b[0m         \u001b[1;32mtry\u001b[0m\u001b[1;33m:\u001b[0m\u001b[1;33m\u001b[0m\u001b[0m\n\u001b[0;32m    884\u001b[0m             ret = [_update_property(self, k, v)\n\u001b[1;32m--> 885\u001b[1;33m                    for k, v in props.items()]\n\u001b[0m\u001b[0;32m    886\u001b[0m         \u001b[1;32mfinally\u001b[0m\u001b[1;33m:\u001b[0m\u001b[1;33m\u001b[0m\u001b[0m\n\u001b[0;32m    887\u001b[0m             \u001b[0mself\u001b[0m\u001b[1;33m.\u001b[0m\u001b[0meventson\u001b[0m \u001b[1;33m=\u001b[0m \u001b[0mstore\u001b[0m\u001b[1;33m\u001b[0m\u001b[0m\n",
      "\u001b[1;32mC:\\Users\\Michael\\Anaconda3\\lib\\site-packages\\matplotlib\\artist.py\u001b[0m in \u001b[0;36m_update_property\u001b[1;34m(self, k, v)\u001b[0m\n\u001b[0;32m    876\u001b[0m                 \u001b[0mfunc\u001b[0m \u001b[1;33m=\u001b[0m \u001b[0mgetattr\u001b[0m\u001b[1;33m(\u001b[0m\u001b[0mself\u001b[0m\u001b[1;33m,\u001b[0m \u001b[1;34m'set_'\u001b[0m \u001b[1;33m+\u001b[0m \u001b[0mk\u001b[0m\u001b[1;33m,\u001b[0m \u001b[1;32mNone\u001b[0m\u001b[1;33m)\u001b[0m\u001b[1;33m\u001b[0m\u001b[0m\n\u001b[0;32m    877\u001b[0m                 \u001b[1;32mif\u001b[0m \u001b[0mfunc\u001b[0m \u001b[1;32mis\u001b[0m \u001b[1;32mNone\u001b[0m \u001b[1;32mor\u001b[0m \u001b[1;32mnot\u001b[0m \u001b[0msix\u001b[0m\u001b[1;33m.\u001b[0m\u001b[0mcallable\u001b[0m\u001b[1;33m(\u001b[0m\u001b[0mfunc\u001b[0m\u001b[1;33m)\u001b[0m\u001b[1;33m:\u001b[0m\u001b[1;33m\u001b[0m\u001b[0m\n\u001b[1;32m--> 878\u001b[1;33m                     \u001b[1;32mraise\u001b[0m \u001b[0mAttributeError\u001b[0m\u001b[1;33m(\u001b[0m\u001b[1;34m'Unknown property %s'\u001b[0m \u001b[1;33m%\u001b[0m \u001b[0mk\u001b[0m\u001b[1;33m)\u001b[0m\u001b[1;33m\u001b[0m\u001b[0m\n\u001b[0m\u001b[0;32m    879\u001b[0m                 \u001b[1;32mreturn\u001b[0m \u001b[0mfunc\u001b[0m\u001b[1;33m(\u001b[0m\u001b[0mv\u001b[0m\u001b[1;33m)\u001b[0m\u001b[1;33m\u001b[0m\u001b[0m\n\u001b[0;32m    880\u001b[0m \u001b[1;33m\u001b[0m\u001b[0m\n",
      "\u001b[1;31mAttributeError\u001b[0m: Unknown property max_num_features"
     ]
    }
   ],
   "source": [
    "xgb.plot_importance(model)\n",
    "plt.show()"
   ]
  },
  {
   "cell_type": "code",
   "execution_count": null,
   "metadata": {},
   "outputs": [],
   "source": []
  }
 ],
 "metadata": {
  "kernelspec": {
   "display_name": "Python 3",
   "language": "python",
   "name": "python3"
  },
  "language_info": {
   "codemirror_mode": {
    "name": "ipython",
    "version": 3
   },
   "file_extension": ".py",
   "mimetype": "text/x-python",
   "name": "python",
   "nbconvert_exporter": "python",
   "pygments_lexer": "ipython3",
   "version": "3.6.1"
  }
 },
 "nbformat": 4,
 "nbformat_minor": 2
}
