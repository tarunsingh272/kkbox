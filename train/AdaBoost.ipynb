{
 "cells": [
  {
   "cell_type": "markdown",
   "metadata": {},
   "source": [
    "# Gradient Boosting Classifier"
   ]
  },
  {
   "cell_type": "code",
   "execution_count": 1,
   "metadata": {
    "collapsed": true
   },
   "outputs": [],
   "source": [
    "import pandas as pd \n",
    "import numpy as np\n",
    "\n",
    "\n",
    "from sklearn.model_selection import GridSearchCV\n",
    "import sklearn.metrics\n",
    "from sklearn.metrics import log_loss\n",
    "from sklearn.ensemble import AdaBoostClassifier\n",
    "\n",
    "import pickle\n",
    "import os\n",
    "import os.path as path\n",
    "import sys"
   ]
  },
  {
   "cell_type": "code",
   "execution_count": 2,
   "metadata": {
    "collapsed": true
   },
   "outputs": [],
   "source": [
    "save_dir = path.join(path.dirname(os.getcwd()), 'models')\n",
    "data_dir = path.join(path.dirname(os.getcwd()), 'data', 'train_out.csv')\n",
    "\n",
    "read = open('best_features.pkl', 'rb')\n",
    "ranked_features = pickle.load(read)\n",
    "read.close()\n",
    "\n",
    "#ranked_features = ['expiration_date',\n",
    "#                  'membership_expire_date',\n",
    "#                  'registered_via_7.0',\n",
    "#                  'is_auto_renew',\n",
    "#                  'is_cancel']\n",
    "\n",
    "train_out = pd.read_csv(data_dir)\n",
    "train_X = train_out.drop(['msno', 'is_churn'], axis = 1)\n",
    "train_X = train_X[ranked_features]\n",
    "train_y = train_out.is_churn\n",
    "\n",
    "data_dir = path.join(path.dirname(os.getcwd()), 'data', 'test_out.csv')\n",
    "test_out = pd.read_csv(data_dir)\n",
    "test_X = test_out.drop(['msno', 'is_churn'], axis = 1)\n",
    "test_X = test_X[ranked_features]\n",
    "test_y = test_out.is_churn"
   ]
  },
  {
   "cell_type": "markdown",
   "metadata": {},
   "source": [
    "### Training the Model"
   ]
  },
  {
   "cell_type": "code",
   "execution_count": 12,
   "metadata": {},
   "outputs": [],
   "source": [
    "AdaB = AdaBoostClassifier(n_estimators = 150)\n",
    "AdaB.fit(train_X, train_y)\n",
    "prob = AdaB.predict_proba(train_X)"
   ]
  },
  {
   "cell_type": "code",
   "execution_count": 13,
   "metadata": {},
   "outputs": [
    {
     "name": "stdout",
     "output_type": "stream",
     "text": [
      "AdaBoost log loss:           0.673674\n",
      "AdaBoost probs saved!\n",
      "Gradient Boosting Classifier Saved!\n"
     ]
    }
   ],
   "source": [
    "print('AdaBoost log loss:           %f' % log_loss(train_y, prob))\n",
    "save_dir = path.join(path.dirname(os.getcwd()), 'models', 'adab_probs.pkl')\n",
    "output = open(save_dir, 'wb')\n",
    "pickle.dump(prob, output, protocol = pickle.HIGHEST_PROTOCOL)\n",
    "output.close()\n",
    "print('AdaBoost probs saved!')\n",
    "save_dir = path.join(path.dirname(os.getcwd()), 'models', 'adab.pkl')\n",
    "output = open(save_dir, 'wb')\n",
    "pickle.dump(AdaB, output, protocol = pickle.HIGHEST_PROTOCOL)\n",
    "output.close()\n",
    "print('Gradient Boosting Classifier Saved!')"
   ]
  },
  {
   "cell_type": "markdown",
   "metadata": {},
   "source": [
    "### Creating Submission File"
   ]
  },
  {
   "cell_type": "code",
   "execution_count": 6,
   "metadata": {
    "collapsed": true
   },
   "outputs": [],
   "source": [
    "test_X.loc[test_X['201702'].isnull(), '201702'] = 0"
   ]
  },
  {
   "cell_type": "code",
   "execution_count": 9,
   "metadata": {},
   "outputs": [
    {
     "name": "stdout",
     "output_type": "stream",
     "text": [
      "Saved AdaB Predictions to:      C:\\Users\\Michael\\Documents\\python\\kkbox\\submissions\\gbc_submission.csv\n"
     ]
    }
   ],
   "source": [
    "pred = AdaB.predict_proba(test_X)\n",
    "pred = pred[:,1]\n",
    "index = test_out['msno']\n",
    "d = {\n",
    "    'msno': index,\n",
    "    'is_churn': pred\n",
    "}\n",
    "\n",
    "adab_submission = pd.DataFrame(d)\n",
    "\n",
    "avg = np.mean(train_y)\n",
    "\n",
    "output = open('test_mask.pkl', 'rb')\n",
    "mask = pickle.load(output)\n",
    "output.close()\n",
    "\n",
    "replace = mask[mask == True].index \n",
    "adab_submission.index = adab_submission.msno\n",
    "adab_submission.loc[replace, 'is_churn'] = avg\n",
    "\n",
    "save_dir = path.join(path.dirname(os.getcwd()), 'submissions')\n",
    "adab_submission.to_csv(path.join(save_dir, 'adab_submission.csv'), index = False)\n",
    "print('Saved AdaB Predictions to:      %s' % path.join(save_dir, 'gbc_submission.csv'))"
   ]
  },
  {
   "cell_type": "code",
   "execution_count": 10,
   "metadata": {},
   "outputs": [
    {
     "data": {
      "text/plain": [
       "0.42170554420349804"
      ]
     },
     "execution_count": 10,
     "metadata": {},
     "output_type": "execute_result"
    }
   ],
   "source": [
    "np.mean(adab_submission.is_churn)"
   ]
  },
  {
   "cell_type": "markdown",
   "metadata": {},
   "source": [
    "# adab_submission.is_churn"
   ]
  }
 ],
 "metadata": {
  "kernelspec": {
   "display_name": "Python 3",
   "language": "python",
   "name": "python3"
  },
  "language_info": {
   "codemirror_mode": {
    "name": "ipython",
    "version": 3
   },
   "file_extension": ".py",
   "mimetype": "text/x-python",
   "name": "python",
   "nbconvert_exporter": "python",
   "pygments_lexer": "ipython3",
   "version": "3.6.1"
  }
 },
 "nbformat": 4,
 "nbformat_minor": 2
}
